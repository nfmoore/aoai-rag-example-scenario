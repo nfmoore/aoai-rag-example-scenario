{
 "cells": [
  {
   "cell_type": "markdown",
   "metadata": {},
   "source": [
    "# Setup Azure AI Search"
   ]
  },
  {
   "cell_type": "markdown",
   "metadata": {},
   "source": [
    "### Import the required libraries"
   ]
  },
  {
   "cell_type": "code",
   "execution_count": null,
   "metadata": {},
   "outputs": [],
   "source": [
    "import os\n",
    "import dotenv\n",
    "import sys\n",
    "\n",
    "dotenv.load_dotenv(\".env\")\n",
    "sys.path.append(os.path.join(os.getcwd(), \"..\", \"src\"))"
   ]
  },
  {
   "cell_type": "code",
   "execution_count": null,
   "metadata": {},
   "outputs": [],
   "source": [
    "from search.utilities import AISearchClient\n",
    "\n",
    "# Create search client\n",
    "search_client = AISearchClient(\n",
    "    search_endpoint=os.environ[\"AZURE_AI_SEARCH_ENDPOINT\"],\n",
    ")"
   ]
  },
  {
   "cell_type": "code",
   "execution_count": null,
   "metadata": {},
   "outputs": [],
   "source": [
    "# Generate list of variables to be used in templates\n",
    "template_variables = {\n",
    "    key: value\n",
    "    for key, value in os.environ.items()\n",
    "    if key.startswith((\"AZURE\"))\n",
    "}\n",
    "\n",
    "# Load data source template\n",
    "data_source_template_path = os.path.join(\n",
    "    os.getcwd(), \"..\", \"src\", \"search\", \"templates\", \"data-source.json\"\n",
    ")\n",
    "search_client.load_data_source_template(\n",
    "    data_source_name=os.environ[\"AZURE_AI_SEARCH_DATASOURCE_NAME\"],\n",
    "    data_source_template_path=data_source_template_path,\n",
    "    template_variables=template_variables,\n",
    ")\n",
    "\n",
    "# Load index template\n",
    "index_template_path = os.path.join(\n",
    "    os.getcwd(), \"..\", \"src\", \"search\", \"templates\", \"index.json\"\n",
    ")\n",
    "search_client.load_index_template(\n",
    "    index_name=os.environ[\"AZURE_AI_SEARCH_INDEX_NAME\"],\n",
    "    index_template_path=index_template_path,\n",
    "    template_variables=template_variables,\n",
    ")\n",
    "\n",
    "# Load skillset template\n",
    "skillset_template_path = os.path.join(\n",
    "    os.getcwd(), \"..\", \"src\", \"search\", \"templates\", \"skillset.json\"\n",
    ")\n",
    "search_client.load_skillset_template(\n",
    "    skillset_name=os.environ[\"AZURE_AI_SEARCH_SKILLSET_NAME\"],\n",
    "    skillset_template_path=skillset_template_path,\n",
    "    template_variables=template_variables,\n",
    ")\n",
    "\n",
    "# Load indexer template\n",
    "indexer_template_path = os.path.join(\n",
    "    os.getcwd(), \"..\", \"src\", \"search\", \"templates\", \"indexer.json\"\n",
    ")\n",
    "search_client.load_indexer_template(\n",
    "    indexer_name=os.environ[\"AZURE_AI_SEARCH_INDEXER_NAME\"],\n",
    "    indexer_template_path=indexer_template_path,\n",
    "    template_variables=template_variables,\n",
    ")"
   ]
  },
  {
   "cell_type": "code",
   "execution_count": null,
   "metadata": {},
   "outputs": [],
   "source": [
    "# Create the data source\n",
    "search_client.create_data_source()\n",
    "\n",
    "# Create the index\n",
    "search_client.create_index()\n",
    "\n",
    "# Create skillset to enhance the indexer\n",
    "search_client.create_skillset()\n",
    "\n",
    "# Create the indexer\n",
    "search_client.create_indexer()"
   ]
  },
  {
   "cell_type": "code",
   "execution_count": null,
   "metadata": {},
   "outputs": [],
   "source": [
    "# Run the indexer\n",
    "search_client.run_indexer()"
   ]
  },
  {
   "cell_type": "code",
   "execution_count": null,
   "metadata": {},
   "outputs": [],
   "source": [
    "# Run the indexer with reset\n",
    "search_client.run_indexer(reset_flag=True)"
   ]
  },
  {
   "cell_type": "code",
   "execution_count": null,
   "metadata": {},
   "outputs": [],
   "source": []
  }
 ],
 "metadata": {
  "kernelspec": {
   "display_name": "base",
   "language": "python",
   "name": "python3"
  },
  "language_info": {
   "codemirror_mode": {
    "name": "ipython",
    "version": 3
   },
   "file_extension": ".py",
   "mimetype": "text/x-python",
   "name": "python",
   "nbconvert_exporter": "python",
   "pygments_lexer": "ipython3",
   "version": "3.11.7"
  }
 },
 "nbformat": 4,
 "nbformat_minor": 2
}
